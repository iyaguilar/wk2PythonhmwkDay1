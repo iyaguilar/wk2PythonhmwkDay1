{
 "cells": [
  {
   "cell_type": "markdown",
   "metadata": {},
   "source": [
    "# Week 2 - Monday Lesson (variable assignment, loops, lists)"
   ]
  },
  {
   "cell_type": "markdown",
   "metadata": {},
   "source": [
    "## Tasks Today:\n",
    "\n",
    "1) Int & Float assignments <br>\n",
    " &nbsp;&nbsp;&nbsp;&nbsp; a) Assigning int <br>\n",
    " &nbsp;&nbsp;&nbsp;&nbsp; b) Assigning float <br>\n",
    " &nbsp;&nbsp;&nbsp;&nbsp; c) Performing Calculations on ints and floats <br>\n",
    " &nbsp;&nbsp;&nbsp;&nbsp;&nbsp;&nbsp;&nbsp;&nbsp; - Addition <br>\n",
    " &nbsp;&nbsp;&nbsp;&nbsp;&nbsp;&nbsp;&nbsp;&nbsp; - Subtraction <br>\n",
    " &nbsp;&nbsp;&nbsp;&nbsp;&nbsp;&nbsp;&nbsp;&nbsp; - Multiplication <br>\n",
    " &nbsp;&nbsp;&nbsp;&nbsp;&nbsp;&nbsp;&nbsp;&nbsp; - Division <br>\n",
    " &nbsp;&nbsp;&nbsp;&nbsp;&nbsp;&nbsp;&nbsp;&nbsp; - Floor Division <br>\n",
    " &nbsp;&nbsp;&nbsp;&nbsp;&nbsp;&nbsp;&nbsp;&nbsp; - Modulo <br>\n",
    " &nbsp;&nbsp;&nbsp;&nbsp;&nbsp;&nbsp;&nbsp;&nbsp; - Exponential <br>\n",
    "2) String Input-Output <br>\n",
    " &nbsp;&nbsp;&nbsp;&nbsp; a) String Assignment <br>\n",
    " &nbsp;&nbsp;&nbsp;&nbsp; b) print() <br>\n",
    " &nbsp;&nbsp;&nbsp;&nbsp; c) String Concatenation <br>\n",
    " &nbsp;&nbsp;&nbsp;&nbsp; d) Type Conversion <br>\n",
    " &nbsp;&nbsp;&nbsp;&nbsp; e) input() <br>\n",
    " &nbsp;&nbsp;&nbsp;&nbsp; f) format() <br>\n",
    " &nbsp;&nbsp;&nbsp;&nbsp; g) Old Way (python 2) <br>\n",
    "3) <b>In-Class Exercise #1</b> <br>\n",
    "4) If Statements <br>\n",
    " &nbsp;&nbsp;&nbsp;&nbsp; a) 'is' keyword <br>\n",
    " &nbsp;&nbsp;&nbsp;&nbsp; b) 'in' keyword <br>\n",
    " &nbsp;&nbsp;&nbsp;&nbsp; c) 'not in' keyword <br>\n",
    "5) <b>In-Class Exercise #2</b> <br>\n",
    "6) Elif Statements <br>\n",
    "7) Else Statements <br>\n",
    "8) <b>In-Class Exercise #3</b> <br>\n",
    "9) For Loops <br>\n",
    " &nbsp;&nbsp;&nbsp;&nbsp; a) Using 'in' keyword <br>\n",
    " &nbsp;&nbsp;&nbsp;&nbsp; b) Continue Statement <br>\n",
    " &nbsp;&nbsp;&nbsp;&nbsp; c) Break Statement <br>\n",
    " &nbsp;&nbsp;&nbsp;&nbsp; d) Pass Statement <br>\n",
    " &nbsp;&nbsp;&nbsp;&nbsp; e) Double For Loops <br>\n",
    "10) While Loops <br>\n",
    " &nbsp;&nbsp;&nbsp;&nbsp; a) Looping 'While True' <br>\n",
    " &nbsp;&nbsp;&nbsp;&nbsp; b) While and For Loops Used Together <br>\n",
    "11) Built-In Functions <br>\n",
    " &nbsp;&nbsp;&nbsp;&nbsp; a) range() <br>\n",
    " &nbsp;&nbsp;&nbsp;&nbsp; b) len() <br>\n",
    " &nbsp;&nbsp;&nbsp;&nbsp; c) help() <br>\n",
    " &nbsp;&nbsp;&nbsp;&nbsp; d) isinstance() <br>\n",
    " &nbsp;&nbsp;&nbsp;&nbsp; e) abs() <br>\n",
    "12) Try and Except <br>\n",
    "13) Lists <br>\n",
    " &nbsp;&nbsp;&nbsp;&nbsp; a) Declaring Lists <br>\n",
    " &nbsp;&nbsp;&nbsp;&nbsp; b) Indexing a List <br>\n",
    " &nbsp;&nbsp;&nbsp;&nbsp; c) .append() <br>\n",
    " &nbsp;&nbsp;&nbsp;&nbsp; d) .insert() <br>\n",
    " &nbsp;&nbsp;&nbsp;&nbsp; e) .pop() <br>\n",
    " &nbsp;&nbsp;&nbsp;&nbsp; f) .remove() <br>\n",
    " &nbsp;&nbsp;&nbsp;&nbsp; g) del() <br>\n",
    " &nbsp;&nbsp;&nbsp;&nbsp; h) Concatenating Two Lists <br>\n",
    " &nbsp;&nbsp;&nbsp;&nbsp; i) Lists Within Lists <br>\n",
    " &nbsp;&nbsp;&nbsp;&nbsp; j) Looping Through Lists <br>"
   ]
  },
  {
   "cell_type": "markdown",
   "metadata": {},
   "source": [
    "### Int & Float Assignments"
   ]
  },
  {
   "attachments": {},
   "cell_type": "markdown",
   "metadata": {},
   "source": [
    "##### Assigning int - Integer types are whole numbers"
   ]
  },
  {
   "cell_type": "code",
   "execution_count": null,
   "metadata": {},
   "outputs": [],
   "source": [
    "x = 5\n",
    "\n",
    "print(type(x))\n",
    "\n"
   ]
  },
  {
   "attachments": {},
   "cell_type": "markdown",
   "metadata": {},
   "source": [
    "##### Assinging float - Float types are decimals\n"
   ]
  },
  {
   "cell_type": "code",
   "execution_count": null,
   "metadata": {},
   "outputs": [],
   "source": [
    "y = 5.2\n",
    "\n",
    "print(y)\n",
    "      \n"
   ]
  },
  {
   "cell_type": "markdown",
   "metadata": {},
   "source": [
    "#### Performing Calculations on ints and floats"
   ]
  },
  {
   "attachments": {},
   "cell_type": "markdown",
   "metadata": {},
   "source": [
    "##### Addition (+)"
   ]
  },
  {
   "cell_type": "code",
   "execution_count": null,
   "metadata": {},
   "outputs": [],
   "source": [
    "adding = 5+5\n",
    "\n",
    "x=6\n",
    "y=7\n",
    "\n",
    "adding2=x+y\n",
    "\n",
    "current=5\n",
    "\n",
    "current+=3\n",
    "\n",
    "\n",
    "\n",
    "print(current)\n",
    "\n",
    "\n",
    "\n",
    "\n"
   ]
  },
  {
   "attachments": {},
   "cell_type": "markdown",
   "metadata": {},
   "source": [
    "##### Subtraction (-)"
   ]
  },
  {
   "cell_type": "code",
   "execution_count": null,
   "metadata": {},
   "outputs": [],
   "source": [
    "sub=x-y\n",
    "\n",
    "sub-=4\n",
    "\n",
    "\n",
    "print(sub)\n"
   ]
  },
  {
   "attachments": {},
   "cell_type": "markdown",
   "metadata": {},
   "source": [
    "##### Multiplication (*)"
   ]
  },
  {
   "cell_type": "code",
   "execution_count": null,
   "metadata": {},
   "outputs": [],
   "source": [
    "mult =5*2\n",
    "\n",
    "y=7\n",
    "mult = x * y\n",
    "\n",
    "print(mult)\n",
    "\n"
   ]
  },
  {
   "attachments": {},
   "cell_type": "markdown",
   "metadata": {},
   "source": [
    "##### Division (/)"
   ]
  },
  {
   "cell_type": "code",
   "execution_count": null,
   "metadata": {},
   "outputs": [],
   "source": [
    "div =10/3\n",
    "\n",
    "\n",
    "print(div)\n",
    "\n"
   ]
  },
  {
   "attachments": {},
   "cell_type": "markdown",
   "metadata": {},
   "source": [
    "##### Floor Division (//) - Normal division but returns the largest possible integer\n"
   ]
  },
  {
   "cell_type": "code",
   "execution_count": null,
   "metadata": {},
   "outputs": [],
   "source": [
    "floor_div=5//2\n",
    "\n",
    "print(floor_div)\n"
   ]
  },
  {
   "attachments": {},
   "cell_type": "markdown",
   "metadata": {},
   "source": [
    "##### Modulo (%) - Returns the remainder of division\n"
   ]
  },
  {
   "cell_type": "code",
   "execution_count": null,
   "metadata": {},
   "outputs": [],
   "source": [
    "remainder=10%6\n",
    "print(remainder)\n"
   ]
  },
  {
   "attachments": {},
   "cell_type": "markdown",
   "metadata": {},
   "source": [
    "##### Exponential (**)"
   ]
  },
  {
   "cell_type": "code",
   "execution_count": null,
   "metadata": {},
   "outputs": [],
   "source": [
    "square=10**2\n",
    "print(square)\n",
    "\n",
    "cube=10**3\n",
    "print(cube)\n"
   ]
  },
  {
   "cell_type": "markdown",
   "metadata": {},
   "source": [
    "### String Input-Output"
   ]
  },
  {
   "cell_type": "markdown",
   "metadata": {},
   "source": [
    "##### String Assignment"
   ]
  },
  {
   "cell_type": "code",
   "execution_count": null,
   "metadata": {},
   "outputs": [],
   "source": [
    "phrase = \"Hello World\"\n",
    "\n",
    "number=\"123\"\n",
    "\n",
    "add = number + 1\n",
    "\n",
    "\n",
    "\n",
    "\n",
    "print(type(phrase))\n",
    "\n",
    "\n",
    "\n"
   ]
  },
  {
   "cell_type": "markdown",
   "metadata": {},
   "source": [
    "##### print() <br>\n",
    "<p>Don't forget about end=' '</p>"
   ]
  },
  {
   "cell_type": "code",
   "execution_count": null,
   "metadata": {},
   "outputs": [],
   "source": [
    "print(\"Hello_World\", end=\"!\")\n",
    "\n",
    "\n",
    "\n",
    "\n",
    "\n",
    "\n",
    "\n",
    "\n",
    "\n",
    "\n",
    "\n"
   ]
  },
  {
   "cell_type": "markdown",
   "metadata": {},
   "source": [
    "##### String Concatenation"
   ]
  },
  {
   "cell_type": "code",
   "execution_count": null,
   "metadata": {},
   "outputs": [],
   "source": [
    "word1='Hello'\n",
    "word2='World'\n",
    "\n",
    "phrase = word1 + ' ' + word2\n",
    "\n",
    "phrase +=\"!\"\n",
    "phrase +=\"!\"\n",
    "phrase +=\"!\"\n",
    "\n",
    "\n",
    "\n",
    "\n",
    "print(phrase)\n",
    "\n"
   ]
  },
  {
   "cell_type": "markdown",
   "metadata": {},
   "source": [
    "##### Type Conversion"
   ]
  },
  {
   "cell_type": "code",
   "execution_count": null,
   "metadata": {},
   "outputs": [],
   "source": [
    "str_num = '123.0'\n",
    "\n",
    "num = float(str_num)\n",
    "\n",
    "print(type(num))\n",
    "print(num)\n",
    "\n",
    "int_num = int(num)\n",
    "\n",
    "print(int_num)\n",
    "\n"
   ]
  },
  {
   "cell_type": "markdown",
   "metadata": {},
   "source": [
    "##### input()"
   ]
  },
  {
   "cell_type": "code",
   "execution_count": null,
   "metadata": {},
   "outputs": [],
   "source": [
    "age = int(input(\"How Old are you?\"))\n",
    "\n",
    "age = int(age) + 1\n",
    "print(\"On your birthday you will turn\" + str(age))\n",
    "\n",
    "\n",
    "\n",
    "\n",
    "\n"
   ]
  },
  {
   "cell_type": "markdown",
   "metadata": {},
   "source": [
    "##### format()"
   ]
  },
  {
   "cell_type": "code",
   "execution_count": null,
   "metadata": {},
   "outputs": [],
   "source": [
    "name = \"Yesenia\"\n",
    "age = 99\n",
    "\n",
    "my_greeting = \"Hi {}, how is it being {} years old?\".format(name, age)\n",
    "\n",
    "print(my_greeting)\n"
   ]
  },
  {
   "cell_type": "code",
   "execution_count": null,
   "metadata": {},
   "outputs": [],
   "source": [
    "name =\"Yesenia\"\n",
    "age = 99\n",
    "\n",
    "new_greeting = f\"Hi {name} how's it being {age} years old?\"\n",
    "\n",
    "print (new_greeting)\n"
   ]
  },
  {
   "cell_type": "markdown",
   "metadata": {},
   "source": [
    "# In-Class Exercise 1 <br>\n",
    "<p>Create a format statement that asks for color, year, make, model and prints out the results</p>"
   ]
  },
  {
   "cell_type": "code",
   "execution_count": null,
   "metadata": {},
   "outputs": [],
   "source": [
    "# input to prompt user for year make and model\n",
    "color= input(\"what color\")\n",
    "year= input(\"enter the year\")\n",
    "make= input(\"enter the make\")\n",
    "model= input(\"enter the model\")\n",
    "\n",
    "new_statement= f\"I have a {color}, {year}, {make}, {model}\"\n",
    "print(new_statement)\n",
    "\n",
    "\n",
    "\n"
   ]
  },
  {
   "cell_type": "markdown",
   "metadata": {},
   "source": [
    "### If Statements"
   ]
  },
  {
   "cell_type": "code",
   "execution_count": null,
   "metadata": {},
   "outputs": [],
   "source": [
    "# Available operators: Greater(>), Less(<),Equal(==)\n",
    "# Greater or Equal(>=), Less or Equal (<=)\n",
    "\n",
    "# Truth Tree:\n",
    "# T and F = F\n",
    "# T and T = T\n",
    "# T or F = T\n",
    "# F or T = T\n",
    "# F or F = F\n",
    "\n",
    "#if <conditional that will be True or False>\n",
    "\n",
    "age = 17\n",
    "\n",
    "if age >= 21:\n",
    "\n",
    "    print(\"you can come in the bar\")\n",
    "\n",
    "name = 'Yesenia'\n",
    "\n",
    "if name == \"Yesenia\":\n",
    "    print(\"pretty cool girl\")\n",
    "\n",
    "print(\"end of if\")\n"
   ]
  },
  {
   "attachments": {},
   "cell_type": "markdown",
   "metadata": {},
   "source": [
    "##### 'is' keyword - Checks if the value refers to the same object in memory, not if they equal each other"
   ]
  },
  {
   "cell_type": "code",
   "execution_count": null,
   "metadata": {
    "scrolled": true
   },
   "outputs": [],
   "source": [
    "name = \"Dylan\"\n",
    "my_name = name\n",
    "\n",
    "if name is my_name:\n",
    "\n",
    " \n",
    "\n",
    "    print(\"Hi Dylan\")"
   ]
  },
  {
   "attachments": {},
   "cell_type": "markdown",
   "metadata": {},
   "source": [
    "##### 'in' keyword = used to check if a value is present in a sequence"
   ]
  },
  {
   "cell_type": "code",
   "execution_count": null,
   "metadata": {},
   "outputs": [],
   "source": [
    "name = \"Dylan\"\n",
    "\n",
    "if \"y\" in name:\n",
    "\n",
    "    print(\"I found my Y in life\")\n",
    "\n"
   ]
  },
  {
   "cell_type": "markdown",
   "metadata": {},
   "source": [
    "##### 'not in' keyword'"
   ]
  },
  {
   "cell_type": "code",
   "execution_count": null,
   "metadata": {},
   "outputs": [],
   "source": [
    "name = \"Dilan\"\n",
    "\n",
    "if \"Y\" not in name:\n",
    "    print(\"Y even bother\")\n"
   ]
  },
  {
   "cell_type": "markdown",
   "metadata": {},
   "source": [
    "# In-Class Exercise 2 <br>\n",
    "<p>Ask user for input, check to see if the letter 'p' is in the input</p>"
   ]
  },
  {
   "cell_type": "code",
   "execution_count": null,
   "metadata": {},
   "outputs": [],
   "source": [
    "name = input(\"What is your name? I'm checkin for P's!\").lower()\n",
    "\n",
    "if \"p\" in name:\n",
    "    print(\"There is a p in your name!\")\n",
    "\n",
    "if \"p\" not in name:\n",
    "    print(\"There is no p in your name!\")\n",
    "\n",
    "\n"
   ]
  },
  {
   "cell_type": "markdown",
   "metadata": {},
   "source": [
    "## Using 'and'/'or' with If Statements"
   ]
  },
  {
   "cell_type": "code",
   "execution_count": null,
   "metadata": {},
   "outputs": [],
   "source": [
    "name = \"Dylan\"\n",
    "age = 50\n",
    "\n",
    "if name == \"Dylan\" or \"Christian\":\n",
    "    print(\"You're wise\")"
   ]
  },
  {
   "cell_type": "markdown",
   "metadata": {},
   "source": [
    "### Elif Statements"
   ]
  },
  {
   "cell_type": "code",
   "execution_count": null,
   "metadata": {},
   "outputs": [],
   "source": [
    "name = \"Tommy\"\n",
    "\n",
    "if name == \"Dylan\":\n",
    "    print(\"Cool\")\n",
    "elif name == \"Christian\":\n",
    "    print(\"funny\")\n",
    "\n",
    "elif name == \"Tommy\":\n",
    "    print(\"Georgia Boy\")"
   ]
  },
  {
   "cell_type": "markdown",
   "metadata": {},
   "source": [
    "### Else Statements"
   ]
  },
  {
   "cell_type": "code",
   "execution_count": null,
   "metadata": {},
   "outputs": [],
   "source": [
    "# see above\n",
    "name = \"Buhay\"\n",
    "\n",
    "if name == \"Dylan\":\n",
    "    print(\"Cool\")\n",
    "elif name == \"Christian\":\n",
    "    print(\"funny\")\n",
    "\n",
    "elif name == \"Tommy\":\n",
    "    print(\"Georgia Boy\")\n",
    "\n",
    "else:\n",
    "    print(\"another one of the thieves\")\n"
   ]
  },
  {
   "cell_type": "markdown",
   "metadata": {},
   "source": [
    "### For Loops"
   ]
  },
  {
   "cell_type": "code",
   "execution_count": null,
   "metadata": {},
   "outputs": [],
   "source": [
    "# for <placehoder variable> in <iterable>:\n",
    "#   ,bock of code that gets ran on every iterations *>\n",
    "\n",
    "name = \"dylan\"\n",
    "count = 0\n",
    "\n",
    "\n",
    "for letter in name:\n",
    "    count += 1\n",
    "\n",
    "print(count)\n",
    "\n"
   ]
  },
  {
   "cell_type": "markdown",
   "metadata": {},
   "source": [
    "##### Continue Statement"
   ]
  },
  {
   "cell_type": "code",
   "execution_count": null,
   "metadata": {},
   "outputs": [],
   "source": [
    "# will continue to next iteration\n",
    "name = \"dylan\"\n",
    "\n",
    "for char in name:\n",
    "    if char ==\"y\":\n",
    "        print(\"I found my Y in life\")\n",
    "        continue\n",
    "    print(char)"
   ]
  },
  {
   "cell_type": "markdown",
   "metadata": {},
   "source": [
    "##### Break Statement"
   ]
  },
  {
   "cell_type": "code",
   "execution_count": null,
   "metadata": {},
   "outputs": [],
   "source": [
    "# will break out of current loop\n",
    "name = \"dylan\"\n",
    "for char in name:\n",
    "    if char ==\"y\":\n",
    "        print(\"I found my Y in life\")\n",
    "        break\n",
    "    print(char)"
   ]
  },
  {
   "cell_type": "markdown",
   "metadata": {},
   "source": [
    "##### Pass Statement"
   ]
  },
  {
   "cell_type": "code",
   "execution_count": null,
   "metadata": {},
   "outputs": [],
   "source": [
    "# mostly used as a placeholder, and will continue on same iteration\n",
    "\n",
    "if age >= 21:\n",
    "    pass\n",
    "\n",
    "\n",
    "elif age <10:\n",
    "    print(age)"
   ]
  },
  {
   "cell_type": "markdown",
   "metadata": {},
   "source": [
    "##### Double For Loops"
   ]
  },
  {
   "cell_type": "code",
   "execution_count": null,
   "metadata": {},
   "outputs": [],
   "source": [
    "name = \"dylan\"\n",
    "\n",
    "for letter in name:\n",
    "    print(\"----\" +letter)\n",
    "    for char in name:\n",
    "        print(char)\n"
   ]
  },
  {
   "cell_type": "markdown",
   "metadata": {},
   "source": [
    "### While Loops"
   ]
  },
  {
   "cell_type": "code",
   "execution_count": null,
   "metadata": {},
   "outputs": [],
   "source": [
    "num = 0\n",
    "while num <10:\n",
    "    print(num)\n",
    "    num += 1\n",
    "    "
   ]
  },
  {
   "cell_type": "markdown",
   "metadata": {},
   "source": [
    "##### Looping 'While True'"
   ]
  },
  {
   "cell_type": "code",
   "execution_count": null,
   "metadata": {},
   "outputs": [],
   "source": [
    "while True:\n",
    "    answer = input(\"what is the password\")\n",
    "    if answer == \"tuesday\":\n",
    "        print(\"welcome to today\")\n",
    "        break\n",
    "    else:\n",
    "        print(\"WRONG TRY AGAIN\")"
   ]
  },
  {
   "cell_type": "markdown",
   "metadata": {},
   "source": [
    "##### While & For Loops Used Together"
   ]
  },
  {
   "cell_type": "code",
   "execution_count": null,
   "metadata": {},
   "outputs": [],
   "source": [
    "while True:\n",
    "    play = input(\"Do you want to play this spelling game\")\n",
    "    if play == \"yes\":\n",
    "        name = input(\"what is your name\")\n",
    "        print(\"you spell your name:\")\n",
    "        for letter in name:\n",
    "            print(letter)\n",
    "    elif play == \"no\":\n",
    "        break"
   ]
  },
  {
   "cell_type": "markdown",
   "metadata": {},
   "source": [
    "### Built-In Functions"
   ]
  },
  {
   "cell_type": "markdown",
   "metadata": {},
   "source": [
    "##### range()"
   ]
  },
  {
   "cell_type": "code",
   "execution_count": null,
   "metadata": {},
   "outputs": [],
   "source": [
    "for num in range(0,10,2):\n",
    "    print(num)"
   ]
  },
  {
   "cell_type": "markdown",
   "metadata": {},
   "source": [
    "##### len()"
   ]
  },
  {
   "cell_type": "code",
   "execution_count": null,
   "metadata": {},
   "outputs": [],
   "source": [
    "name = \"dylan\"\n",
    "print(type(len(name)))\n"
   ]
  },
  {
   "attachments": {},
   "cell_type": "markdown",
   "metadata": {},
   "source": [
    "##### help() -  used to display the documentation of modules, functions, classes, keywords, etc. "
   ]
  },
  {
   "cell_type": "code",
   "execution_count": null,
   "metadata": {},
   "outputs": [],
   "source": [
    "help(range)"
   ]
  },
  {
   "attachments": {},
   "cell_type": "markdown",
   "metadata": {},
   "source": [
    "##### isinstance() - checks if the object is the type"
   ]
  },
  {
   "cell_type": "code",
   "execution_count": null,
   "metadata": {},
   "outputs": [],
   "source": [
    "number = 123\n",
    "print(isinstance(number,int))"
   ]
  },
  {
   "attachments": {},
   "cell_type": "markdown",
   "metadata": {},
   "source": [
    "##### abs() - returns the absolute value"
   ]
  },
  {
   "cell_type": "code",
   "execution_count": null,
   "metadata": {},
   "outputs": [],
   "source": [
    "x = -5\n",
    "\n",
    "print(abs(x))\n",
    "\n"
   ]
  },
  {
   "attachments": {},
   "cell_type": "markdown",
   "metadata": {},
   "source": [
    "### Try and Except Blocks\n",
    "#### try - lets you test a block of code for errors\n",
    "#### except - lets you handle the error"
   ]
  },
  {
   "cell_type": "code",
   "execution_count": null,
   "metadata": {},
   "outputs": [],
   "source": [
    "\n",
    "try: \n",
    "\n",
    "    age = int(input(\"how old are you\"))\n",
    "\n",
    "    birthday = age + 1\n",
    "\n",
    "    print(\"in one year you will be\" + str(birthday))\n",
    "except: \n",
    "    print(\"enter a numerical value!\")\n",
    "\n",
    "\n",
    "\n",
    "\n",
    "\n"
   ]
  },
  {
   "cell_type": "markdown",
   "metadata": {},
   "source": [
    "### Lists"
   ]
  },
  {
   "cell_type": "markdown",
   "metadata": {},
   "source": [
    "##### Declaring Lists"
   ]
  },
  {
   "cell_type": "code",
   "execution_count": null,
   "metadata": {},
   "outputs": [],
   "source": [
    "\n",
    "my_tigers = []\n",
    "\n",
    "my_names = [\"dylan\", \"michael\", \"katina\"]\n",
    "\n",
    "\n"
   ]
  },
  {
   "cell_type": "markdown",
   "metadata": {},
   "source": [
    "##### Indexing a List"
   ]
  },
  {
   "cell_type": "code",
   "execution_count": null,
   "metadata": {},
   "outputs": [],
   "source": [
    "middle_name= my_names[-1]\n",
    "\n",
    "print(middle_name)\n",
    "\n",
    "\n",
    "\n"
   ]
  },
  {
   "cell_type": "markdown",
   "metadata": {},
   "source": [
    "##### .append()"
   ]
  },
  {
   "cell_type": "code",
   "execution_count": null,
   "metadata": {},
   "outputs": [],
   "source": [
    "my_names = [\"Dylan\", \"Michael\", \"Katina\"]\n",
    "my_names.append(\"JArrett\")\n",
    "print(my_names)\n"
   ]
  },
  {
   "cell_type": "markdown",
   "metadata": {},
   "source": [
    "##### .insert()"
   ]
  },
  {
   "cell_type": "code",
   "execution_count": null,
   "metadata": {},
   "outputs": [],
   "source": [
    "my_names = [\"Dylan\", \"Michael\", \"Katina\"]\n",
    "my_names.insert (2, \"JArrett\")\n",
    "print(my_names)\n",
    "\n"
   ]
  },
  {
   "cell_type": "markdown",
   "metadata": {},
   "source": [
    "##### .pop()"
   ]
  },
  {
   "cell_type": "code",
   "execution_count": null,
   "metadata": {},
   "outputs": [],
   "source": [
    "last_name = my_names.pop()\n",
    "print(last_name)\n",
    "print(my_names)"
   ]
  },
  {
   "attachments": {},
   "cell_type": "markdown",
   "metadata": {},
   "source": [
    "\n",
    "##### .remove() - removes element in a list, does not remove duplicates"
   ]
  },
  {
   "cell_type": "code",
   "execution_count": null,
   "metadata": {},
   "outputs": [],
   "source": [
    "\n",
    "my_names.remove(\"Michael\")\n",
    "print(my_names)\n"
   ]
  },
  {
   "cell_type": "markdown",
   "metadata": {},
   "source": [
    "##### del()"
   ]
  },
  {
   "cell_type": "code",
   "execution_count": null,
   "metadata": {},
   "outputs": [],
   "source": [
    "my_names = [\"Dylan\", \"Michael\", \"Katina\"]\n",
    "\n",
    "del my_names[1]\n",
    "print(my_names)"
   ]
  },
  {
   "cell_type": "markdown",
   "metadata": {},
   "source": [
    "##### Concatenating Two Lists"
   ]
  },
  {
   "cell_type": "code",
   "execution_count": null,
   "metadata": {},
   "outputs": [],
   "source": [
    "\n",
    "instructors = [\"Dylan\", \"Christian\"]\n",
    "students = [\"Michael\", \"Marina\", \"Yesenia\"]\n",
    "\n",
    "thieves = instructors + students\n",
    "\n",
    "print(thieves)\n",
    "\n"
   ]
  },
  {
   "cell_type": "markdown",
   "metadata": {},
   "source": [
    "##### Lists Within Lists"
   ]
  },
  {
   "cell_type": "code",
   "execution_count": null,
   "metadata": {},
   "outputs": [],
   "source": [
    "instructors = [\"Dylan\", \"Christian\"]\n",
    "students = [\"Michael\", \"Marina\", \"Yesenia\"]\n",
    "\n",
    "instructors.append(students)\n",
    "\n",
    "print(instructors)\n",
    "print(instructors[2][2])\n",
    "print(instructors)\n",
    "\n",
    "\n",
    "\n",
    "\n"
   ]
  },
  {
   "cell_type": "markdown",
   "metadata": {},
   "source": [
    "##### Looping Through Lists"
   ]
  },
  {
   "cell_type": "code",
   "execution_count": null,
   "metadata": {},
   "outputs": [],
   "source": [
    "fav_foods = [\"steak\", \"pizza\", \"tacos\", \"sushi\"]\n",
    "\n",
    "\n",
    "print(\"My fav foods are:\")\n",
    "for food in fav_foods:\n",
    "    print(food)\n",
    "\n",
    "\n"
   ]
  },
  {
   "cell_type": "markdown",
   "metadata": {},
   "source": [
    "## Exercise #1 <br>\n",
    "<p>Cube Number Test... Print out all cubed numbers up to the total value 1000. Meaning that if the cubed number is over 1000 break the loop.</p>"
   ]
  },
  {
   "cell_type": "code",
   "execution_count": 2,
   "metadata": {},
   "outputs": [
    {
     "name": "stdout",
     "output_type": "stream",
     "text": [
      "1\n",
      "8\n",
      "27\n",
      "64\n",
      "125\n",
      "216\n",
      "343\n",
      "512\n",
      "729\n",
      "1000\n"
     ]
    }
   ],
   "source": [
    "\n",
    "for n in range (1,11):\n",
    "    cube=n**3\n",
    "    print(cube)\n",
    "    if cube == 1000:\n",
    "        break\n",
    "\n",
    "\n"
   ]
  },
  {
   "cell_type": "markdown",
   "metadata": {},
   "source": [
    "## Exercise #2 <br>\n",
    "<p>Get first prime numbers up to 100</p>"
   ]
  },
  {
   "cell_type": "code",
   "execution_count": 1,
   "metadata": {},
   "outputs": [
    {
     "name": "stdout",
     "output_type": "stream",
     "text": [
      "2 3 5 7 11 13 17 19 23 29 31 37 41 43 47 53 59 61 67 71 73 79 83 89 97 "
     ]
    }
   ],
   "source": [
    "# HINT::\n",
    "# An else after an if runs if the if didn’t\n",
    "\n",
    "\n",
    "\n",
    "def checkPrime(num):\n",
    "\n",
    "    if num < 2:\n",
    "\n",
    "        return 0\n",
    "\n",
    "    else: \n",
    "\n",
    "        x = num // 2\n",
    "        for j in range(2, x + 1):\n",
    "            if num % j == 0:\n",
    "                return 0\n",
    "\n",
    "    return 1\n",
    "\n",
    "for i in range(1, 100 + 1):\n",
    "    if checkPrime(i):\n",
    "        print(i, end=\" \")\n",
    "        \n",
    "\n",
    "\n"
   ]
  },
  {
   "cell_type": "markdown",
   "metadata": {},
   "source": [
    "# Exercise 3 <br>\n",
    "<p>Take in a users input for their age, if they are younger than 18 print kids, if they're 18 to 65 print adults, else print seniors</p>"
   ]
  },
  {
   "cell_type": "code",
   "execution_count": 3,
   "metadata": {},
   "outputs": [
    {
     "name": "stdout",
     "output_type": "stream",
     "text": [
      "adult\n"
     ]
    }
   ],
   "source": [
    "age = int(input(\"enter age\"))\n",
    "\n",
    "if age < 18:\n",
    "    print(\"kid\")\n",
    "elif age >=18 and age <=65:\n",
    "    print(\"adult\")\n",
    "else:\n",
    "    print(\"senior\")\n",
    "    "
   ]
  }
 ],
 "metadata": {
  "kernelspec": {
   "display_name": "Python 3",
   "language": "python",
   "name": "python3"
  },
  "language_info": {
   "codemirror_mode": {
    "name": "ipython",
    "version": 3
   },
   "file_extension": ".py",
   "mimetype": "text/x-python",
   "name": "python",
   "nbconvert_exporter": "python",
   "pygments_lexer": "ipython3",
   "version": "3.11.5"
  },
  "vscode": {
   "interpreter": {
    "hash": "aa82987a71ca0339a52998cd22613b0c002bda8349fa32a0cb67ceec3936a2bf"
   }
  }
 },
 "nbformat": 4,
 "nbformat_minor": 2
}
